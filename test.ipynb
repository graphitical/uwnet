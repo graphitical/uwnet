{
 "metadata": {
  "language_info": {
   "codemirror_mode": {
    "name": "ipython",
    "version": 3
   },
   "file_extension": ".py",
   "mimetype": "text/x-python",
   "name": "python",
   "nbconvert_exporter": "python",
   "pygments_lexer": "ipython3",
   "version": "3.7.4-final"
  },
  "orig_nbformat": 2,
  "kernelspec": {
   "name": "python3",
   "display_name": "Python 3"
  }
 },
 "nbformat": 4,
 "nbformat_minor": 2,
 "cells": [
  {
   "cell_type": "code",
   "execution_count": 12,
   "metadata": {},
   "outputs": [
    {
     "output_type": "stream",
     "name": "stdout",
     "text": [
      "outw: 32, outh: 24\n0\n(0,0)\n(0,1)\n(1,0)\n(1,1)\n1\n(0,2)\n(0,3)\n(1,2)\n(1,3)\n2\n(0,4)\n(0,5)\n(1,4)\n(1,5)\n3\n(0,6)\n(0,7)\n(1,6)\n(1,7)\n4\n(0,8)\n(0,9)\n(1,8)\n(1,9)\n5\n(0,10)\n(0,11)\n(1,10)\n(1,11)\n6\n(0,12)\n(0,13)\n(1,12)\n(1,13)\n7\n(0,14)\n(0,15)\n(1,14)\n(1,15)\n8\n(0,16)\n(0,17)\n(1,16)\n(1,17)\n9\n(0,18)\n(0,19)\n(1,18)\n(1,19)\n10\n(0,20)\n(0,21)\n(1,20)\n(1,21)\n11\n(0,22)\n(0,23)\n(1,22)\n(1,23)\n12\n(0,24)\n(0,25)\n(1,24)\n(1,25)\n13\n(0,26)\n(0,27)\n(1,26)\n(1,27)\n14\n(0,28)\n(0,29)\n(1,28)\n(1,29)\n15\n(0,30)\n(0,31)\n(1,30)\n(1,31)\n16\n(0,32)\n(0,33)\n(1,32)\n(1,33)\n17\n(0,34)\n(0,35)\n(1,34)\n(1,35)\n18\n(0,36)\n(0,37)\n(1,36)\n(1,37)\n19\n(0,38)\n(0,39)\n(1,38)\n(1,39)\n20\n(0,40)\n(0,41)\n(1,40)\n(1,41)\n21\n(0,42)\n(0,43)\n(1,42)\n(1,43)\n22\n(0,44)\n(0,45)\n(1,44)\n(1,45)\n23\n(0,46)\n(0,47)\n(1,46)\n(1,47)\n24\n(0,48)\n(0,49)\n(1,48)\n(1,49)\n25\n(0,50)\n(0,51)\n(1,50)\n(1,51)\n26\n(0,52)\n(0,53)\n(1,52)\n(1,53)\n27\n(0,54)\n(0,55)\n(1,54)\n(1,55)\n28\n(0,56)\n(0,57)\n(1,56)\n(1,57)\n29\n(0,58)\n(0,59)\n(1,58)\n(1,59)\n30\n(0,60)\n(0,61)\n(1,60)\n(1,61)\n31\n(0,62)\n(0,63)\n(1,62)\n(1,63)\n32\n(2,0)\n(2,1)\n(3,0)\n(3,1)\n33\n(2,2)\n(2,3)\n(3,2)\n(3,3)\n34\n(2,4)\n(2,5)\n(3,4)\n(3,5)\n35\n(2,6)\n(2,7)\n(3,6)\n(3,7)\n36\n(2,8)\n(2,9)\n(3,8)\n(3,9)\n37\n(2,10)\n(2,11)\n(3,10)\n(3,11)\n38\n(2,12)\n(2,13)\n(3,12)\n(3,13)\n39\n(2,14)\n(2,15)\n(3,14)\n(3,15)\n40\n(2,16)\n(2,17)\n(3,16)\n(3,17)\n41\n(2,18)\n(2,19)\n(3,18)\n(3,19)\n42\n(2,20)\n(2,21)\n(3,20)\n(3,21)\n43\n(2,22)\n(2,23)\n(3,22)\n(3,23)\n44\n(2,24)\n(2,25)\n(3,24)\n(3,25)\n45\n(2,26)\n(2,27)\n(3,26)\n(3,27)\n46\n(2,28)\n(2,29)\n(3,28)\n(3,29)\n47\n(2,30)\n(2,31)\n(3,30)\n(3,31)\n48\n(2,32)\n(2,33)\n(3,32)\n(3,33)\n49\n(2,34)\n(2,35)\n(3,34)\n(3,35)\n50\n(2,36)\n(2,37)\n(3,36)\n(3,37)\n51\n(2,38)\n(2,39)\n(3,38)\n(3,39)\n52\n(2,40)\n(2,41)\n(3,40)\n(3,41)\n53\n(2,42)\n(2,43)\n(3,42)\n(3,43)\n54\n(2,44)\n(2,45)\n(3,44)\n(3,45)\n55\n(2,46)\n(2,47)\n(3,46)\n(3,47)\n56\n(2,48)\n(2,49)\n(3,48)\n(3,49)\n57\n(2,50)\n(2,51)\n(3,50)\n(3,51)\n58\n(2,52)\n(2,53)\n(3,52)\n(3,53)\n59\n(2,54)\n(2,55)\n(3,54)\n(3,55)\n60\n(2,56)\n(2,57)\n(3,56)\n(3,57)\n"
     ]
    }
   ],
   "source": [
    "im_w = 64\n",
    "im_h = 48\n",
    "im_c = 3\n",
    "\n",
    "k_width = 2\n",
    "k_height = k_width\n",
    "stride = 2\n",
    "\n",
    "outw = (im_w - 1) // stride + 1\n",
    "outh = (im_h - 1) // stride + 1\n",
    "print(\"outw: {}, outh: {}\".format(outw, outh))\n",
    "cols = outw*outh\n",
    "i = j = 0\n",
    "for c in range(cols):\n",
    "    print(c)\n",
    "    for i in range(k_height):\n",
    "        for j in range(k_width):\n",
    "            m = ((c*stride)//im_w)*stride + i\n",
    "            n = (c*stride)%im_w + j\n",
    "            print(\"({},{})\".format(m,n))\n",
    "    if (c == 60): break\n",
    "    "
   ]
  },
  {
   "cell_type": "code",
   "execution_count": 2,
   "metadata": {},
   "outputs": [
    {
     "output_type": "stream",
     "name": "stdout",
     "text": [
      "1\n"
     ]
    }
   ],
   "source": [
    "layer_w = 2\n",
    "layer_h = layer_w\n",
    "layer_s = 2\n",
    "\n",
    "in_c = 1\n",
    "in_cols = (4**2)*in_c\n",
    "in_rows = 4\n",
    "in_size = in_cols // in_c\n",
    "\n",
    "out_rows = in_rows\n",
    "out_h = (layer_w - 1)//layer_s + 1\n",
    "out_w = (layer_h - 1)//layer_s + 1\n",
    "out_cols = in_c * out_h * out_w\n",
    "print(out_cols)"
   ]
  },
  {
   "cell_type": "code",
   "execution_count": null,
   "metadata": {},
   "outputs": [],
   "source": []
  }
 ]
}