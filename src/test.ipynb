{
 "metadata": {
  "language_info": {
   "codemirror_mode": {
    "name": "ipython",
    "version": 3
   },
   "file_extension": ".py",
   "mimetype": "text/x-python",
   "name": "python",
   "nbconvert_exporter": "python",
   "pygments_lexer": "ipython3",
   "version": "3.7.4-final"
  },
  "orig_nbformat": 2,
  "kernelspec": {
   "name": "python3",
   "display_name": "Python 3"
  }
 },
 "nbformat": 4,
 "nbformat_minor": 2,
 "cells": [
  {
   "cell_type": "code",
   "execution_count": 26,
   "metadata": {},
   "outputs": [
    {
     "output_type": "stream",
     "name": "stdout",
     "text": [
      "0.24912360264900663\n37748736.0\n"
     ]
    }
   ],
   "source": [
    "im_w = 128\n",
    "im_h = im_w\n",
    "im_c = 16\n",
    "\n",
    "kern_size = 3\n",
    "stride = 2\n",
    "\n",
    "outw = im_w/stride\n",
    "outh = im_h/stride\n",
    "im2col_cols = outw*outh\n",
    "im2col_rows = im_c*kern_size*kern_size\n",
    "\n",
    "new_filters = 32\n",
    "\n",
    "a = ((im_w/stride) * (im_h/stride) * kern_size * kern_size * im_c * new_filters + (im_w/stride) * (im_h/stride) * (kern_size*kern_size*im_c-1)*new_filters)/151e6\n",
    "\n",
    "b = (2*im2col_rows) * new_filters * im2col_cols\n",
    "\n",
    "print(a)\n",
    "print(b)\n",
    "\n",
    "nn = (im_w*im_h*im_c*2) * "
   ]
  },
  {
   "cell_type": "code",
   "execution_count": 95,
   "metadata": {},
   "outputs": [
    {
     "output_type": "stream",
     "name": "stdout",
     "text": [
      "[2048.0, 1024.0, 512.0, 256.0]\n[110592.0, 147456.0, 147456.0, 147456.0]\n"
     ]
    }
   ],
   "source": [
    "sizes = [(32,32), (16,16),(8,8),(4,4)]\n",
    "k_size = 3\n",
    "stride = 2\n",
    "num_channels = [3, 8, 16, 32, 64]\n",
    "# sizes = [(128,128)]\n",
    "# num_channels = [16, 32]\n",
    "\n",
    "num_ops = []\n",
    "neurons = []\n",
    "\n",
    "# Conv nets\n",
    "for im_size, old_channels, new_channels in zip(sizes,num_channels, num_channels[1:]):\n",
    "    outw = im_size[0]/stride\n",
    "    outh = im_size[1]/stride\n",
    "    im2col_rows = old_channels*kern_size**2\n",
    "    im2col_cols = outw*outh\n",
    "    # print(im_size,old_channels,new_channels)\n",
    "    num_ops.append((2*im2col_rows) * new_channels * im2col_cols)\n",
    "    neurons.append(new_channels * outw * outh)\n",
    "\n",
    "print(neurons)\n",
    "print(num_ops)\n"
   ]
  },
  {
   "cell_type": "code",
   "execution_count": 29,
   "metadata": {},
   "outputs": [
    {
     "output_type": "stream",
     "name": "stdout",
     "text": [
      "50331648 25165824\n"
     ]
    },
    {
     "output_type": "execute_result",
     "data": {
      "text/plain": [
       "8192"
      ]
     },
     "metadata": {},
     "execution_count": 29
    }
   ],
   "source": [
    "# (l x m) * (m x n)\n",
    "l = 8\n",
    "m = 32 * 32 * 3\n",
    "n = 32 * 32\n",
    "\n",
    "my_num = (2*m) * l * n\n",
    "their_num = l * m * n\n",
    "print(my_num, their_num)\n",
    "8 * 32**2\n",
    "2**13"
   ]
  },
  {
   "cell_type": "code",
   "execution_count": 41,
   "metadata": {},
   "outputs": [
    {
     "output_type": "execute_result",
     "data": {
      "text/plain": [
       "'act'"
      ]
     },
     "metadata": {},
     "execution_count": 41
    }
   ],
   "source": [
    "a = {1:'act',2:'cat'}\n",
    "a[1]"
   ]
  },
  {
   "cell_type": "code",
   "execution_count": 94,
   "metadata": {},
   "outputs": [
    {
     "output_type": "stream",
     "name": "stdout",
     "text": [
      "0.01\n0.01\n0.01\n0.01\n0.01\n0.01\n0.01\n0.01\n0.01\n0.01\n0.001\n0.001\n0.001\n0.001\n0.001\n0.001\n0.001\n0.001\n0.001\n0.001\n0.0001\n0.0001\n0.0001\n0.0001\n0.0001\n0.0001\n0.0001\n0.0001\n0.0001\n0.0001\n"
     ]
    },
    {
     "output_type": "error",
     "ename": "StopIteration",
     "evalue": "",
     "traceback": [
      "\u001b[0;31m---------------------------------------------------------------------------\u001b[0m",
      "\u001b[0;31mStopIteration\u001b[0m                             Traceback (most recent call last)",
      "\u001b[0;32m<ipython-input-94-c8d6a2b62921>\u001b[0m in \u001b[0;36m<module>\u001b[0;34m\u001b[0m\n\u001b[1;32m     12\u001b[0m \u001b[0;34m\u001b[0m\u001b[0m\n\u001b[1;32m     13\u001b[0m \u001b[0;32mwhile\u001b[0m \u001b[0mb\u001b[0m\u001b[0;34m!=\u001b[0m\u001b[0;32mNone\u001b[0m\u001b[0;34m:\u001b[0m\u001b[0;34m\u001b[0m\u001b[0;34m\u001b[0m\u001b[0m\n\u001b[0;32m---> 14\u001b[0;31m     \u001b[0mprint\u001b[0m\u001b[0;34m(\u001b[0m\u001b[0mnext\u001b[0m\u001b[0;34m(\u001b[0m\u001b[0ma\u001b[0m\u001b[0;34m)\u001b[0m\u001b[0;34m)\u001b[0m\u001b[0;34m\u001b[0m\u001b[0;34m\u001b[0m\u001b[0m\n\u001b[0m",
      "\u001b[0;31mStopIteration\u001b[0m: "
     ]
    }
   ],
   "source": [
    "epochs = 30\n",
    "a = (0.1 / (10**(e//(epochs/3)+1)) for e in range(epochs))\n",
    "# a = [0.1 / 10**(e//(epochs//3)+1) for e in range(epochs)]\n",
    "# a = (e for e in range(epochs))\n",
    "b = (a for a in range(10))\n",
    "# lrs = [a, b]\n",
    "# for i, j in enumerate([a, b]):\n",
    "#     print(i)\n",
    "# print(next(a))\n",
    "# len(a)\n",
    "# print([i for i in range(1,3)])\n",
    "\n",
    "while b!=None:\n",
    "    print(next(a))"
   ]
  }
 ]
}